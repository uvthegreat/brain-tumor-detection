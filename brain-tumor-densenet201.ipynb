{
 "cells": [
  {
   "cell_type": "code",
   "execution_count": 6,
   "id": "686cec17",
   "metadata": {
    "papermill": {
     "duration": 7.141906,
     "end_time": "2021-04-24T14:44:50.161813",
     "exception": false,
     "start_time": "2021-04-24T14:44:43.019907",
     "status": "completed"
    },
    "tags": []
   },
   "outputs": [],
   "source": [
    "import numpy as np\n",
    "import pandas as pd\n",
    "import os\n",
    "\n",
    "import matplotlib.pyplot as plt\n",
    "import tensorflow as tf\n",
    "from tensorflow.keras.utils import to_categorical\n",
    "from tensorflow.keras.preprocessing.image import load_img, img_to_array\n",
    "from tensorflow.keras.preprocessing.image import ImageDataGenerator\n",
    "from sklearn.metrics import classification_report, log_loss, accuracy_score\n",
    "from sklearn.model_selection import train_test_split\n"
   ]
  },
  {
   "cell_type": "code",
   "execution_count": 7,
   "id": "a3475713",
   "metadata": {
    "papermill": {
     "duration": 0.025628,
     "end_time": "2021-04-24T14:44:50.206210",
     "exception": false,
     "start_time": "2021-04-24T14:44:50.180582",
     "status": "completed"
    },
    "tags": []
   },
   "outputs": [],
   "source": [
    "''' train and test path '''\n",
    "train_path = 'Training'\n",
    "test_path = 'Testing'"
   ]
  },
  {
   "cell_type": "code",
   "execution_count": 8,
   "id": "24da1d6c",
   "metadata": {
    "papermill": {
     "duration": 0.048108,
     "end_time": "2021-04-24T14:44:50.272467",
     "exception": false,
     "start_time": "2021-04-24T14:44:50.224359",
     "status": "completed"
    },
    "tags": []
   },
   "outputs": [
    {
     "name": "stdout",
     "output_type": "stream",
     "text": [
      "['glioma_tumor', 'meningioma_tumor', 'no_tumor', 'pituitary_tumor']\n"
     ]
    }
   ],
   "source": [
    "File=[]\n",
    "for f in os.listdir(train_path):\n",
    "    File += [f]\n",
    "\n",
    "'''  total number of classes '''\n",
    "print(File)"
   ]
  },
  {
   "cell_type": "code",
   "execution_count": 11,
   "id": "d6c5276c",
   "metadata": {
    "_cell_guid": "79c7e3d0-c299-4dcb-8224-4455121ee9b0",
    "_uuid": "d629ff2d2480ee46fbb7e2d37f6b5fab8052498a",
    "papermill": {
     "duration": 36.373786,
     "end_time": "2021-04-24T14:45:26.665329",
     "exception": false,
     "start_time": "2021-04-24T14:44:50.291543",
     "status": "completed"
    },
    "tags": []
   },
   "outputs": [],
   "source": [
    "''' reading images '''\n",
    "\n",
    "train_data = []\n",
    "\n",
    "''' label encoding '''\n",
    "mapping={'no_tumor':0, 'pituitary_tumor':1, 'meningioma_tumor':2, 'glioma_tumor':3}\n",
    "\n",
    "count=0\n",
    "\n",
    "for f in os.listdir(train_path):\n",
    "    ''' joining path '''\n",
    "    path = os.path.join(train_path, f)\n",
    "    for im in os.listdir(path):\n",
    "        ''' loading an image '''\n",
    "        img = load_img(os.path.join(path, im), color_mode='rgb', target_size=(150, 150))\n",
    "        ''' converting an image to array '''\n",
    "        img = img_to_array(img)\n",
    "        ''' scaling  '''\n",
    "        img = img / 255.0\n",
    "        ''' appending image to train_data '''\n",
    "        train_data.append([img, count])     \n",
    "    count=count+1"
   ]
  },
  {
   "cell_type": "code",
   "execution_count": 12,
   "id": "c8cb1901",
   "metadata": {
    "papermill": {
     "duration": 4.290356,
     "end_time": "2021-04-24T14:45:30.976816",
     "exception": false,
     "start_time": "2021-04-24T14:45:26.686460",
     "status": "completed"
    },
    "tags": []
   },
   "outputs": [],
   "source": [
    "test_data = []\n",
    "\n",
    "''' label encoding '''\n",
    "mapping={'no_tumor':0, 'pituitary_tumor':1, 'meningioma_tumor':2, 'glioma_tumor':3}\n",
    "count=0\n",
    "\n",
    "for f in os.listdir(test_path):\n",
    "    ''' joining path '''\n",
    "    path=os.path.join(test_path, f)\n",
    "    for im in os.listdir(path):\n",
    "        ''' loading an image '''\n",
    "        img = load_img(os.path.join(path, im), color_mode='rgb', target_size=(150,150))\n",
    "        ''' converting an image to array '''\n",
    "        img = img_to_array(img)\n",
    "        ''' scaling '''\n",
    "        img = img/255.0\n",
    "        ''' appending an image to test_data'''\n",
    "        test_data.append([img, count])         \n",
    "    count=count+1"
   ]
  },
  {
   "cell_type": "code",
   "execution_count": 15,
   "id": "de684a3b",
   "metadata": {
    "papermill": {
     "duration": 0.028548,
     "end_time": "2021-04-24T14:45:31.025016",
     "exception": false,
     "start_time": "2021-04-24T14:45:30.996468",
     "status": "completed"
    },
    "tags": []
   },
   "outputs": [],
   "source": [
    "train_images, train_labels = zip(*train_data)\n",
    "test_images, test_labels = zip(*test_data)"
   ]
  },
  {
   "cell_type": "code",
   "execution_count": 17,
   "id": "1986fda0",
   "metadata": {
    "papermill": {
     "duration": 0.331078,
     "end_time": "2021-04-24T14:45:31.375671",
     "exception": false,
     "start_time": "2021-04-24T14:45:31.044593",
     "status": "completed"
    },
    "tags": []
   },
   "outputs": [
    {
     "name": "stdout",
     "output_type": "stream",
     "text": [
      "(2870, 150, 150, 3)\n",
      "(2870, 4)\n"
     ]
    }
   ],
   "source": [
    "''' converting labels into to_categorical '''\n",
    "train_labels = to_categorical(train_labels)\n",
    "\n",
    "''' coverting train_images into numpy array '''\n",
    "train_images = np.array(train_images)\n",
    "\n",
    "''' converting train_labesl into numpy array '''\n",
    "train_labels = np.array(train_labels)\n",
    "\n",
    "''' shaep of train_images and train_labels '''\n",
    "print(train_images.shape)\n",
    "print(train_labels.shape)"
   ]
  },
  {
   "cell_type": "code",
   "execution_count": 18,
   "id": "a05cc327",
   "metadata": {
    "papermill": {
     "duration": 0.072959,
     "end_time": "2021-04-24T14:45:31.469644",
     "exception": false,
     "start_time": "2021-04-24T14:45:31.396685",
     "status": "completed"
    },
    "tags": []
   },
   "outputs": [
    {
     "name": "stdout",
     "output_type": "stream",
     "text": [
      "(394, 150, 150, 3)\n",
      "(394, 4)\n"
     ]
    }
   ],
   "source": [
    "''' converting labels into to_categorical '''\n",
    "test_labels = to_categorical(test_labels)\n",
    "\n",
    "''' coverting test_images into numpy array '''\n",
    "test_images = np.array(test_images)\n",
    "\n",
    "''' converting train_labesl into numpy array '''\n",
    "test_labels = np.array(test_labels)\n",
    "\n",
    "''' shaep of test_images and test_labels '''\n",
    "print(test_images.shape)\n",
    "print(test_labels.shape)"
   ]
  },
  {
   "cell_type": "code",
   "execution_count": 19,
   "id": "c81145f8",
   "metadata": {
    "papermill": {
     "duration": 0.029869,
     "end_time": "2021-04-24T14:45:31.520212",
     "exception": false,
     "start_time": "2021-04-24T14:45:31.490343",
     "status": "completed"
    },
    "tags": []
   },
   "outputs": [],
   "source": [
    "''' reshaping images '''\n",
    "train_images = train_images.reshape(-1,150,150,3)\n",
    "test_images = test_images.reshape(-1,150,150,3)"
   ]
  },
  {
   "cell_type": "code",
   "execution_count": 21,
   "id": "80f5949e",
   "metadata": {
    "papermill": {
     "duration": 0.315482,
     "end_time": "2021-04-24T14:45:31.855786",
     "exception": false,
     "start_time": "2021-04-24T14:45:31.540304",
     "status": "completed"
    },
    "tags": []
   },
   "outputs": [],
   "source": [
    "''' train test split '''\n",
    "X_train, X_test, y_train, y_test = train_test_split(train_images,train_labels, test_size=0.2,random_state=44)"
   ]
  },
  {
   "cell_type": "code",
   "execution_count": 22,
   "id": "d2451fe7",
   "metadata": {
    "papermill": {
     "duration": 0.034546,
     "end_time": "2021-04-24T14:45:31.912405",
     "exception": false,
     "start_time": "2021-04-24T14:45:31.877859",
     "status": "completed"
    },
    "tags": []
   },
   "outputs": [
    {
     "name": "stdout",
     "output_type": "stream",
     "text": [
      "(2296, 150, 150, 3)\n",
      "(574, 150, 150, 3)\n",
      "(2296, 4)\n",
      "(574, 4)\n"
     ]
    }
   ],
   "source": [
    "''' shape of X_train, X_test, y_train, y_test '''\n",
    "print(X_train.shape)\n",
    "print(X_test.shape)\n",
    "print(y_train.shape)\n",
    "print(y_test.shape)"
   ]
  },
  {
   "cell_type": "code",
   "execution_count": 23,
   "id": "d2377ee9",
   "metadata": {
    "papermill": {
     "duration": 0.030058,
     "end_time": "2021-04-24T14:45:31.965313",
     "exception": false,
     "start_time": "2021-04-24T14:45:31.935255",
     "status": "completed"
    },
    "tags": []
   },
   "outputs": [],
   "source": [
    "''' data Augmentation '''\n",
    "data_aug = ImageDataGenerator(horizontal_flip=True, vertical_flip=True, rotation_range=20, zoom_range=0.2,\n",
    "                    width_shift_range=0.2, height_shift_range=0.2, shear_range=0.1, fill_mode=\"nearest\")"
   ]
  },
  {
   "cell_type": "code",
   "execution_count": 24,
   "id": "ea440074",
   "metadata": {
    "papermill": {
     "duration": 13.646104,
     "end_time": "2021-04-24T14:45:45.632622",
     "exception": false,
     "start_time": "2021-04-24T14:45:31.986518",
     "status": "completed"
    },
    "tags": []
   },
   "outputs": [
    {
     "name": "stdout",
     "output_type": "stream",
     "text": [
      "Downloading data from https://storage.googleapis.com/tensorflow/keras-applications/densenet/densenet201_weights_tf_dim_ordering_tf_kernels_notop.h5\n",
      "\u001b[1m74836368/74836368\u001b[0m \u001b[32m━━━━━━━━━━━━━━━━━━━━\u001b[0m\u001b[37m\u001b[0m \u001b[1m7s\u001b[0m 0us/step\n"
     ]
    }
   ],
   "source": [
    "''' DenseNet201 Model '''\n",
    "model1 = tf.keras.applications.DenseNet201(input_shape=(150,150,3),include_top=False,weights='imagenet',pooling='avg')\n",
    "\n",
    "''' freezing layers '''\n",
    "model1.trainable = False"
   ]
  },
  {
   "cell_type": "code",
   "execution_count": 25,
   "id": "56bdee07",
   "metadata": {
    "papermill": {
     "duration": 0.127232,
     "end_time": "2021-04-24T14:45:45.789669",
     "exception": false,
     "start_time": "2021-04-24T14:45:45.662437",
     "status": "completed"
    },
    "tags": []
   },
   "outputs": [],
   "source": [
    "inp = model1.input\n",
    "''' Hidden Layer '''\n",
    "x = tf.keras.layers.Dense(128, activation='relu')(model1.output)\n",
    "''' Classification Layer '''\n",
    "out = tf.keras.layers.Dense(4, activation='softmax')(x)\n",
    "\n",
    "''' Model '''\n",
    "model = tf.keras.Model(inputs=inp, outputs=out)\n",
    "\n",
    "''' compile the model '''\n",
    "model.compile(loss = 'categorical_crossentropy', optimizer='adam', metrics=['accuracy'])"
   ]
  },
  {
   "cell_type": "code",
   "execution_count": 26,
   "id": "e81d2a42",
   "metadata": {
    "papermill": {
     "duration": 468.82374,
     "end_time": "2021-04-24T14:53:34.642947",
     "exception": false,
     "start_time": "2021-04-24T14:45:45.819207",
     "status": "completed"
    },
    "tags": []
   },
   "outputs": [
    {
     "name": "stdout",
     "output_type": "stream",
     "text": [
      "Epoch 1/30\n"
     ]
    },
    {
     "name": "stderr",
     "output_type": "stream",
     "text": [
      "C:\\Users\\Admin\\AppData\\Local\\Programs\\Python\\Python312\\Lib\\site-packages\\keras\\src\\trainers\\data_adapters\\py_dataset_adapter.py:122: UserWarning: Your `PyDataset` class should call `super().__init__(**kwargs)` in its constructor. `**kwargs` can include `workers`, `use_multiprocessing`, `max_queue_size`. Do not pass these arguments to `fit()`, as they will be ignored.\n",
      "  self._warn_if_super_not_called()\n"
     ]
    },
    {
     "name": "stdout",
     "output_type": "stream",
     "text": [
      "\u001b[1m72/72\u001b[0m \u001b[32m━━━━━━━━━━━━━━━━━━━━\u001b[0m\u001b[37m\u001b[0m \u001b[1m104s\u001b[0m 1s/step - accuracy: 0.5658 - loss: 1.0675 - val_accuracy: 0.7944 - val_loss: 0.5374\n",
      "Epoch 2/30\n",
      "\u001b[1m72/72\u001b[0m \u001b[32m━━━━━━━━━━━━━━━━━━━━\u001b[0m\u001b[37m\u001b[0m \u001b[1m83s\u001b[0m 1s/step - accuracy: 0.7922 - loss: 0.5490 - val_accuracy: 0.7613 - val_loss: 0.6474\n",
      "Epoch 3/30\n",
      "\u001b[1m72/72\u001b[0m \u001b[32m━━━━━━━━━━━━━━━━━━━━\u001b[0m\u001b[37m\u001b[0m \u001b[1m83s\u001b[0m 1s/step - accuracy: 0.8258 - loss: 0.4632 - val_accuracy: 0.8415 - val_loss: 0.4255\n",
      "Epoch 4/30\n",
      "\u001b[1m72/72\u001b[0m \u001b[32m━━━━━━━━━━━━━━━━━━━━\u001b[0m\u001b[37m\u001b[0m \u001b[1m94s\u001b[0m 1s/step - accuracy: 0.8305 - loss: 0.4332 - val_accuracy: 0.7979 - val_loss: 0.5558\n",
      "Epoch 5/30\n",
      "\u001b[1m72/72\u001b[0m \u001b[32m━━━━━━━━━━━━━━━━━━━━\u001b[0m\u001b[37m\u001b[0m \u001b[1m93s\u001b[0m 1s/step - accuracy: 0.8325 - loss: 0.4394 - val_accuracy: 0.8275 - val_loss: 0.4595\n",
      "Epoch 6/30\n",
      "\u001b[1m72/72\u001b[0m \u001b[32m━━━━━━━━━━━━━━━━━━━━\u001b[0m\u001b[37m\u001b[0m \u001b[1m92s\u001b[0m 1s/step - accuracy: 0.8410 - loss: 0.3898 - val_accuracy: 0.8467 - val_loss: 0.4434\n",
      "Epoch 7/30\n",
      "\u001b[1m72/72\u001b[0m \u001b[32m━━━━━━━━━━━━━━━━━━━━\u001b[0m\u001b[37m\u001b[0m \u001b[1m89s\u001b[0m 1s/step - accuracy: 0.8577 - loss: 0.3768 - val_accuracy: 0.8362 - val_loss: 0.4775\n",
      "Epoch 8/30\n",
      "\u001b[1m72/72\u001b[0m \u001b[32m━━━━━━━━━━━━━━━━━━━━\u001b[0m\u001b[37m\u001b[0m \u001b[1m85s\u001b[0m 1s/step - accuracy: 0.8673 - loss: 0.3464 - val_accuracy: 0.8415 - val_loss: 0.4463\n",
      "Epoch 9/30\n",
      "\u001b[1m72/72\u001b[0m \u001b[32m━━━━━━━━━━━━━━━━━━━━\u001b[0m\u001b[37m\u001b[0m \u001b[1m84s\u001b[0m 1s/step - accuracy: 0.8547 - loss: 0.3618 - val_accuracy: 0.8066 - val_loss: 0.5115\n",
      "Epoch 10/30\n",
      "\u001b[1m72/72\u001b[0m \u001b[32m━━━━━━━━━━━━━━━━━━━━\u001b[0m\u001b[37m\u001b[0m \u001b[1m85s\u001b[0m 1s/step - accuracy: 0.8666 - loss: 0.3582 - val_accuracy: 0.7892 - val_loss: 0.5854\n",
      "Epoch 11/30\n",
      "\u001b[1m72/72\u001b[0m \u001b[32m━━━━━━━━━━━━━━━━━━━━\u001b[0m\u001b[37m\u001b[0m \u001b[1m87s\u001b[0m 1s/step - accuracy: 0.8650 - loss: 0.3404 - val_accuracy: 0.8293 - val_loss: 0.5308\n",
      "Epoch 12/30\n",
      "\u001b[1m72/72\u001b[0m \u001b[32m━━━━━━━━━━━━━━━━━━━━\u001b[0m\u001b[37m\u001b[0m \u001b[1m84s\u001b[0m 1s/step - accuracy: 0.8837 - loss: 0.3042 - val_accuracy: 0.8571 - val_loss: 0.4356\n",
      "Epoch 13/30\n",
      "\u001b[1m72/72\u001b[0m \u001b[32m━━━━━━━━━━━━━━━━━━━━\u001b[0m\u001b[37m\u001b[0m \u001b[1m84s\u001b[0m 1s/step - accuracy: 0.8734 - loss: 0.3243 - val_accuracy: 0.8606 - val_loss: 0.4016\n",
      "Epoch 14/30\n",
      "\u001b[1m72/72\u001b[0m \u001b[32m━━━━━━━━━━━━━━━━━━━━\u001b[0m\u001b[37m\u001b[0m \u001b[1m83s\u001b[0m 1s/step - accuracy: 0.8926 - loss: 0.2833 - val_accuracy: 0.8746 - val_loss: 0.4033\n",
      "Epoch 15/30\n",
      "\u001b[1m72/72\u001b[0m \u001b[32m━━━━━━━━━━━━━━━━━━━━\u001b[0m\u001b[37m\u001b[0m \u001b[1m83s\u001b[0m 1s/step - accuracy: 0.8999 - loss: 0.2808 - val_accuracy: 0.8188 - val_loss: 0.5495\n",
      "Epoch 16/30\n",
      "\u001b[1m72/72\u001b[0m \u001b[32m━━━━━━━━━━━━━━━━━━━━\u001b[0m\u001b[37m\u001b[0m \u001b[1m86s\u001b[0m 1s/step - accuracy: 0.8900 - loss: 0.2843 - val_accuracy: 0.8362 - val_loss: 0.5161\n",
      "Epoch 17/30\n",
      "\u001b[1m72/72\u001b[0m \u001b[32m━━━━━━━━━━━━━━━━━━━━\u001b[0m\u001b[37m\u001b[0m \u001b[1m86s\u001b[0m 1s/step - accuracy: 0.9063 - loss: 0.2564 - val_accuracy: 0.8380 - val_loss: 0.4556\n",
      "Epoch 18/30\n",
      "\u001b[1m72/72\u001b[0m \u001b[32m━━━━━━━━━━━━━━━━━━━━\u001b[0m\u001b[37m\u001b[0m \u001b[1m88s\u001b[0m 1s/step - accuracy: 0.8963 - loss: 0.2784 - val_accuracy: 0.8467 - val_loss: 0.4293\n",
      "Epoch 19/30\n",
      "\u001b[1m72/72\u001b[0m \u001b[32m━━━━━━━━━━━━━━━━━━━━\u001b[0m\u001b[37m\u001b[0m \u001b[1m87s\u001b[0m 1s/step - accuracy: 0.9071 - loss: 0.2573 - val_accuracy: 0.8449 - val_loss: 0.4706\n",
      "Epoch 20/30\n",
      "\u001b[1m72/72\u001b[0m \u001b[32m━━━━━━━━━━━━━━━━━━━━\u001b[0m\u001b[37m\u001b[0m \u001b[1m88s\u001b[0m 1s/step - accuracy: 0.9003 - loss: 0.2717 - val_accuracy: 0.8937 - val_loss: 0.3235\n",
      "Epoch 21/30\n",
      "\u001b[1m72/72\u001b[0m \u001b[32m━━━━━━━━━━━━━━━━━━━━\u001b[0m\u001b[37m\u001b[0m \u001b[1m86s\u001b[0m 1s/step - accuracy: 0.8821 - loss: 0.2952 - val_accuracy: 0.8571 - val_loss: 0.3931\n",
      "Epoch 22/30\n",
      "\u001b[1m72/72\u001b[0m \u001b[32m━━━━━━━━━━━━━━━━━━━━\u001b[0m\u001b[37m\u001b[0m \u001b[1m87s\u001b[0m 1s/step - accuracy: 0.8993 - loss: 0.2526 - val_accuracy: 0.8641 - val_loss: 0.3986\n",
      "Epoch 23/30\n",
      "\u001b[1m72/72\u001b[0m \u001b[32m━━━━━━━━━━━━━━━━━━━━\u001b[0m\u001b[37m\u001b[0m \u001b[1m83s\u001b[0m 1s/step - accuracy: 0.8839 - loss: 0.2814 - val_accuracy: 0.8659 - val_loss: 0.3645\n",
      "Epoch 24/30\n",
      "\u001b[1m72/72\u001b[0m \u001b[32m━━━━━━━━━━━━━━━━━━━━\u001b[0m\u001b[37m\u001b[0m \u001b[1m83s\u001b[0m 1s/step - accuracy: 0.9020 - loss: 0.2426 - val_accuracy: 0.8659 - val_loss: 0.4312\n",
      "Epoch 25/30\n",
      "\u001b[1m72/72\u001b[0m \u001b[32m━━━━━━━━━━━━━━━━━━━━\u001b[0m\u001b[37m\u001b[0m \u001b[1m84s\u001b[0m 1s/step - accuracy: 0.9039 - loss: 0.2516 - val_accuracy: 0.8624 - val_loss: 0.3721\n",
      "Epoch 26/30\n",
      "\u001b[1m72/72\u001b[0m \u001b[32m━━━━━━━━━━━━━━━━━━━━\u001b[0m\u001b[37m\u001b[0m \u001b[1m84s\u001b[0m 1s/step - accuracy: 0.9047 - loss: 0.2620 - val_accuracy: 0.8484 - val_loss: 0.4597\n",
      "Epoch 27/30\n",
      "\u001b[1m72/72\u001b[0m \u001b[32m━━━━━━━━━━━━━━━━━━━━\u001b[0m\u001b[37m\u001b[0m \u001b[1m99s\u001b[0m 1s/step - accuracy: 0.9102 - loss: 0.2327 - val_accuracy: 0.8920 - val_loss: 0.3105\n",
      "Epoch 28/30\n",
      "\u001b[1m72/72\u001b[0m \u001b[32m━━━━━━━━━━━━━━━━━━━━\u001b[0m\u001b[37m\u001b[0m \u001b[1m100s\u001b[0m 1s/step - accuracy: 0.9121 - loss: 0.2316 - val_accuracy: 0.8467 - val_loss: 0.4418\n",
      "Epoch 29/30\n",
      "\u001b[1m72/72\u001b[0m \u001b[32m━━━━━━━━━━━━━━━━━━━━\u001b[0m\u001b[37m\u001b[0m \u001b[1m89s\u001b[0m 1s/step - accuracy: 0.9203 - loss: 0.2322 - val_accuracy: 0.8397 - val_loss: 0.4463\n",
      "Epoch 30/30\n",
      "\u001b[1m72/72\u001b[0m \u001b[32m━━━━━━━━━━━━━━━━━━━━\u001b[0m\u001b[37m\u001b[0m \u001b[1m91s\u001b[0m 1s/step - accuracy: 0.9026 - loss: 0.2308 - val_accuracy: 0.8728 - val_loss: 0.3405\n"
     ]
    }
   ],
   "source": [
    "''' training '''\n",
    "history = model.fit(data_aug.flow(X_train, y_train, batch_size=32), validation_data=(X_test, y_test), epochs=30)"
   ]
  },
  {
   "cell_type": "code",
   "execution_count": 27,
   "id": "c60a0c23",
   "metadata": {
    "papermill": {
     "duration": 5.080215,
     "end_time": "2021-04-24T14:53:40.499721",
     "exception": false,
     "start_time": "2021-04-24T14:53:35.419506",
     "status": "completed"
    },
    "tags": []
   },
   "outputs": [
    {
     "name": "stdout",
     "output_type": "stream",
     "text": [
      "\u001b[1m18/18\u001b[0m \u001b[32m━━━━━━━━━━━━━━━━━━━━\u001b[0m\u001b[37m\u001b[0m \u001b[1m26s\u001b[0m 1s/step \n",
      "              precision    recall  f1-score   support\n",
      "\n",
      "           0       0.93      0.83      0.88       157\n",
      "           1       0.83      0.78      0.81       170\n",
      "           2       0.96      0.89      0.92        81\n",
      "           3       0.83      0.99      0.91       166\n",
      "\n",
      "    accuracy                           0.87       574\n",
      "   macro avg       0.89      0.87      0.88       574\n",
      "weighted avg       0.88      0.87      0.87       574\n",
      "\n"
     ]
    }
   ],
   "source": [
    "''' prediction '''\n",
    "y_pred=model.predict(X_test)\n",
    "\n",
    "''' retreiving max val from predicted values '''\n",
    "pred = np.argmax(y_pred,axis=1)\n",
    "\n",
    "''' retreiving max val from actual values '''\n",
    "ground = np.argmax(y_test,axis=1)\n",
    "\n",
    "''' classificaion report '''\n",
    "print(classification_report(ground,pred))"
   ]
  },
  {
   "cell_type": "code",
   "execution_count": 28,
   "id": "2c2a96b2",
   "metadata": {
    "papermill": {
     "duration": 1.002491,
     "end_time": "2021-04-24T14:53:42.280214",
     "exception": false,
     "start_time": "2021-04-24T14:53:41.277723",
     "status": "completed"
    },
    "tags": []
   },
   "outputs": [
    {
     "ename": "NameError",
     "evalue": "name 'get_acc' is not defined",
     "output_type": "error",
     "traceback": [
      "\u001b[1;31m---------------------------------------------------------------------------\u001b[0m",
      "\u001b[1;31mNameError\u001b[0m                                 Traceback (most recent call last)",
      "Cell \u001b[1;32mIn[28], line 2\u001b[0m\n\u001b[0;32m      1\u001b[0m \u001b[38;5;124;03m''' training accuracy and validation accuracy graph '''\u001b[39;00m\n\u001b[1;32m----> 2\u001b[0m epochs \u001b[38;5;241m=\u001b[39m \u001b[38;5;28mrange\u001b[39m(\u001b[38;5;28mlen\u001b[39m(\u001b[43mget_acc\u001b[49m))\n\u001b[0;32m      3\u001b[0m plt\u001b[38;5;241m.\u001b[39mplot(epochs, history\u001b[38;5;241m.\u001b[39mhistory[\u001b[38;5;124m'\u001b[39m\u001b[38;5;124maccuracy\u001b[39m\u001b[38;5;124m'\u001b[39m], \u001b[38;5;124m'\u001b[39m\u001b[38;5;124mr\u001b[39m\u001b[38;5;124m'\u001b[39m, label\u001b[38;5;241m=\u001b[39m\u001b[38;5;124m'\u001b[39m\u001b[38;5;124mAccuracy of Training data\u001b[39m\u001b[38;5;124m'\u001b[39m)\n\u001b[0;32m      4\u001b[0m plt\u001b[38;5;241m.\u001b[39mplot(epochs, history\u001b[38;5;241m.\u001b[39mhistory[\u001b[38;5;124m'\u001b[39m\u001b[38;5;124mval_accuracy\u001b[39m\u001b[38;5;124m'\u001b[39m], \u001b[38;5;124m'\u001b[39m\u001b[38;5;124mb\u001b[39m\u001b[38;5;124m'\u001b[39m, label\u001b[38;5;241m=\u001b[39m\u001b[38;5;124m'\u001b[39m\u001b[38;5;124mAccuracy of Validation data\u001b[39m\u001b[38;5;124m'\u001b[39m)\n",
      "\u001b[1;31mNameError\u001b[0m: name 'get_acc' is not defined"
     ]
    }
   ],
   "source": [
    "''' training accuracy and validation accuracy graph '''\n",
    "epochs = range(len(get_acc))\n",
    "plt.plot(epochs, history.history['accuracy'], 'r', label='Accuracy of Training data')\n",
    "plt.plot(epochs, history.history['val_accuracy'], 'b', label='Accuracy of Validation data')\n",
    "plt.title('Training vs validation accuracy')\n",
    "plt.legend(loc=0)\n",
    "plt.figure()\n",
    "plt.show()"
   ]
  },
  {
   "cell_type": "code",
   "execution_count": 18,
   "id": "e7f94648",
   "metadata": {
    "execution": {
     "iopub.execute_input": "2021-04-24T14:53:44.194435Z",
     "iopub.status.busy": "2021-04-24T14:53:44.191686Z",
     "iopub.status.idle": "2021-04-24T14:53:44.351385Z",
     "shell.execute_reply": "2021-04-24T14:53:44.350772Z"
    },
    "papermill": {
     "duration": 1.279102,
     "end_time": "2021-04-24T14:53:44.351527",
     "exception": false,
     "start_time": "2021-04-24T14:53:43.072425",
     "status": "completed"
    },
    "tags": []
   },
   "outputs": [
    {
     "data": {
      "image/png": "[encoded data removed]",
      "text/plain": [
       "<Figure size 432x288 with 1 Axes>"
      ]
     },
     "metadata": {
      "needs_background": "light"
     },
     "output_type": "display_data"
    },
    {
     "data": {
      "text/plain": [
       "<Figure size 432x288 with 0 Axes>"
      ]
     },
     "metadata": {},
     "output_type": "display_data"
    }
   ],
   "source": [
    "''' training loss and validation loss graph '''\n",
    "epochs = range(len(get_loss))\n",
    "plt.plot(epochs, history.history['loss'], 'r', label='Loss of Training data')\n",
    "plt.plot(epochs, history.history['val_loss'], 'b', label='Loss of Validation data')\n",
    "plt.title('Training vs validation loss')\n",
    "plt.legend(loc=0)\n",
    "plt.figure()\n",
    "plt.show()"
   ]
  },
  {
   "cell_type": "code",
   "execution_count": 31,
   "id": "89e65ad0",
   "metadata": {
    "papermill": {
     "duration": 0.790947,
     "end_time": "2021-04-24T14:53:45.923691",
     "exception": false,
     "start_time": "2021-04-24T14:53:45.132744",
     "status": "completed"
    },
    "tags": []
   },
   "outputs": [
    {
     "data": {
      "image/jpeg": "[encoded data removed]",
      "image/png": "[encoded data removed]",
      "text/plain": [
       "<PIL.Image.Image image mode=RGB size=150x150>"
      ]
     },
     "execution_count": 31,
     "metadata": {},
     "output_type": "execute_result"
    }
   ],
   "source": [
    "''' loading an image '''\n",
    "load_img(\"Testing/meningioma_tumor/image(102).jpg\",target_size=(150,150))"
   ]
  },
  {
   "cell_type": "code",
   "execution_count": 35,
   "id": "df85d073",
   "metadata": {
    "papermill": {
     "duration": 0.783823,
     "end_time": "2021-04-24T14:53:47.468682",
     "exception": false,
     "start_time": "2021-04-24T14:53:46.684859",
     "status": "completed"
    },
    "tags": []
   },
   "outputs": [
    {
     "data": {
      "text/plain": [
       "array([[[[0.08627451, 0.08627451, 0.08627451],\n",
       "         [0.08627451, 0.08627451, 0.08627451],\n",
       "         [0.08627451, 0.08627451, 0.08627451],\n",
       "         ...,\n",
       "         [0.08235294, 0.08235294, 0.08235294],\n",
       "         [0.08235294, 0.08235294, 0.08235294],\n",
       "         [0.08235294, 0.08235294, 0.08235294]],\n",
       "\n",
       "        [[0.08627451, 0.08627451, 0.08627451],\n",
       "         [0.08627451, 0.08627451, 0.08627451],\n",
       "         [0.08627451, 0.08627451, 0.08627451],\n",
       "         ...,\n",
       "         [0.08235294, 0.08235294, 0.08235294],\n",
       "         [0.08235294, 0.08235294, 0.08235294],\n",
       "         [0.08235294, 0.08235294, 0.08235294]],\n",
       "\n",
       "        [[0.08627451, 0.08627451, 0.08627451],\n",
       "         [0.08627451, 0.08627451, 0.08627451],\n",
       "         [0.08627451, 0.08627451, 0.08627451],\n",
       "         ...,\n",
       "         [0.08235294, 0.08235294, 0.08235294],\n",
       "         [0.08235294, 0.08235294, 0.08235294],\n",
       "         [0.08235294, 0.08235294, 0.08235294]],\n",
       "\n",
       "        ...,\n",
       "\n",
       "        [[0.09019608, 0.09019608, 0.09019608],\n",
       "         [0.09019608, 0.09019608, 0.09019608],\n",
       "         [0.09019608, 0.09019608, 0.09019608],\n",
       "         ...,\n",
       "         [0.09019608, 0.09019608, 0.09019608],\n",
       "         [0.09019608, 0.09019608, 0.09019608],\n",
       "         [0.09019608, 0.09019608, 0.09019608]],\n",
       "\n",
       "        [[0.09019608, 0.09019608, 0.09019608],\n",
       "         [0.09019608, 0.09019608, 0.09019608],\n",
       "         [0.09019608, 0.09019608, 0.09019608],\n",
       "         ...,\n",
       "         [0.09019608, 0.09019608, 0.09019608],\n",
       "         [0.09019608, 0.09019608, 0.09019608],\n",
       "         [0.09019608, 0.09019608, 0.09019608]],\n",
       "\n",
       "        [[0.09019608, 0.09019608, 0.09019608],\n",
       "         [0.09019608, 0.09019608, 0.09019608],\n",
       "         [0.09019608, 0.09019608, 0.09019608],\n",
       "         ...,\n",
       "         [0.09019608, 0.09019608, 0.09019608],\n",
       "         [0.09019608, 0.09019608, 0.09019608],\n",
       "         [0.09019608, 0.09019608, 0.09019608]]]], dtype=float32)"
      ]
     },
     "execution_count": 35,
     "metadata": {},
     "output_type": "execute_result"
    }
   ],
   "source": [
    "''' predicion on new data '''\n",
    "\n",
    "''' loading an image '''\n",
    "img = load_img(\"Testing/meningioma_tumor/image(102).jpg\",target_size=(150,150))\n",
    "\n",
    "''' converting img to array '''\n",
    "img = img_to_array(img) \n",
    "\n",
    "''' scaling '''\n",
    "img = img / 255.0\n",
    "\n",
    "''' expanding dimensions '''\n",
    "img = np.expand_dims(img, axis=0)\n",
    "img"
   ]
  },
  {
   "cell_type": "code",
   "execution_count": 36,
   "id": "cd9d29f6",
   "metadata": {
    "papermill": {
     "duration": 1.715765,
     "end_time": "2021-04-24T14:53:50.329873",
     "exception": false,
     "start_time": "2021-04-24T14:53:48.614108",
     "status": "completed"
    },
    "tags": []
   },
   "outputs": [
    {
     "name": "stdout",
     "output_type": "stream",
     "text": [
      "\u001b[1m1/1\u001b[0m \u001b[32m━━━━━━━━━━━━━━━━━━━━\u001b[0m\u001b[37m\u001b[0m \u001b[1m0s\u001b[0m 254ms/step\n",
      "Prediction is pituitary_tumor.\n"
     ]
    }
   ],
   "source": [
    "lbl_encoding = {0:'no_tumor', 1:'pituitary_tumor', 2:'meningioma_tumor', 3:'glioma_tumor'}\n",
    "\n",
    "def map_label(val):\n",
    "    return lbl_encoding[val]\n",
    "\n",
    "''' predicion '''\n",
    "pred = model.predict(img)\n",
    "\n",
    "''' retreiving max val from predited values'''\n",
    "val = np.argmax(pred)\n",
    "map_val  = map_label(val)\n",
    "\n",
    "print(\"Prediction is {}.\".format(map_val))"
   ]
  },
  {
   "cell_type": "code",
   "execution_count": 47,
   "id": "ac63409f",
   "metadata": {
    "papermill": {
     "duration": 2.110028,
     "end_time": "2021-04-24T14:53:53.213402",
     "exception": false,
     "start_time": "2021-04-24T14:53:51.103374",
     "status": "completed"
    },
    "tags": []
   },
   "outputs": [
    {
     "name": "stdout",
     "output_type": "stream",
     "text": [
      "(394, 150, 150, 3)\n",
      "\u001b[1m13/13\u001b[0m \u001b[32m━━━━━━━━━━━━━━━━━━━━\u001b[0m\u001b[37m\u001b[0m \u001b[1m11s\u001b[0m 849ms/step\n",
      "(394, 4)\n"
     ]
    },
    {
     "data": {
      "text/plain": [
       "[1,\n",
       " 1,\n",
       " 1,\n",
       " 1,\n",
       " 1,\n",
       " 1,\n",
       " 1,\n",
       " 2,\n",
       " 2,\n",
       " 1,\n",
       " 1,\n",
       " 2,\n",
       " 3,\n",
       " 1,\n",
       " 1,\n",
       " 1,\n",
       " 2,\n",
       " 1,\n",
       " 1,\n",
       " 2,\n",
       " 1,\n",
       " 1,\n",
       " 1,\n",
       " 1,\n",
       " 1,\n",
       " 0,\n",
       " 0,\n",
       " 3,\n",
       " 1,\n",
       " 1,\n",
       " 2,\n",
       " 2,\n",
       " 0,\n",
       " 3,\n",
       " 0,\n",
       " 1,\n",
       " 2,\n",
       " 1,\n",
       " 0,\n",
       " 1,\n",
       " 0,\n",
       " 0,\n",
       " 1,\n",
       " 1,\n",
       " 1,\n",
       " 1,\n",
       " 0,\n",
       " 2,\n",
       " 3,\n",
       " 1,\n",
       " 1,\n",
       " 0,\n",
       " 2,\n",
       " 3,\n",
       " 1,\n",
       " 0,\n",
       " 1,\n",
       " 1,\n",
       " 1,\n",
       " 0,\n",
       " 1,\n",
       " 0,\n",
       " 0,\n",
       " 0,\n",
       " 0,\n",
       " 0,\n",
       " 0,\n",
       " 0,\n",
       " 0,\n",
       " 0,\n",
       " 0,\n",
       " 0,\n",
       " 3,\n",
       " 3,\n",
       " 3,\n",
       " 1,\n",
       " 1,\n",
       " 1,\n",
       " 1,\n",
       " 1,\n",
       " 1,\n",
       " 2,\n",
       " 2,\n",
       " 1,\n",
       " 1,\n",
       " 0,\n",
       " 3,\n",
       " 2,\n",
       " 2,\n",
       " 1,\n",
       " 1,\n",
       " 1,\n",
       " 2,\n",
       " 1,\n",
       " 1,\n",
       " 1,\n",
       " 2,\n",
       " 1,\n",
       " 1,\n",
       " 1,\n",
       " 1,\n",
       " 1,\n",
       " 1,\n",
       " 1,\n",
       " 1,\n",
       " 1,\n",
       " 1,\n",
       " 1,\n",
       " 1,\n",
       " 1,\n",
       " 1,\n",
       " 1,\n",
       " 1,\n",
       " 1,\n",
       " 1,\n",
       " 1,\n",
       " 1,\n",
       " 1,\n",
       " 1,\n",
       " 3,\n",
       " 1,\n",
       " 1,\n",
       " 1,\n",
       " 1,\n",
       " 1,\n",
       " 1,\n",
       " 1,\n",
       " 1,\n",
       " 1,\n",
       " 1,\n",
       " 1,\n",
       " 1,\n",
       " 1,\n",
       " 1,\n",
       " 1,\n",
       " 1,\n",
       " 1,\n",
       " 2,\n",
       " 1,\n",
       " 1,\n",
       " 1,\n",
       " 1,\n",
       " 1,\n",
       " 1,\n",
       " 1,\n",
       " 1,\n",
       " 1,\n",
       " 1,\n",
       " 1,\n",
       " 1,\n",
       " 1,\n",
       " 1,\n",
       " 1,\n",
       " 1,\n",
       " 1,\n",
       " 1,\n",
       " 1,\n",
       " 2,\n",
       " 1,\n",
       " 1,\n",
       " 0,\n",
       " 1,\n",
       " 1,\n",
       " 1,\n",
       " 1,\n",
       " 1,\n",
       " 1,\n",
       " 0,\n",
       " 1,\n",
       " 1,\n",
       " 1,\n",
       " 1,\n",
       " 1,\n",
       " 1,\n",
       " 1,\n",
       " 1,\n",
       " 1,\n",
       " 1,\n",
       " 1,\n",
       " 1,\n",
       " 1,\n",
       " 1,\n",
       " 1,\n",
       " 1,\n",
       " 1,\n",
       " 1,\n",
       " 1,\n",
       " 1,\n",
       " 1,\n",
       " 1,\n",
       " 1,\n",
       " 1,\n",
       " 3,\n",
       " 3,\n",
       " 1,\n",
       " 1,\n",
       " 1,\n",
       " 1,\n",
       " 1,\n",
       " 1,\n",
       " 1,\n",
       " 1,\n",
       " 1,\n",
       " 1,\n",
       " 1,\n",
       " 1,\n",
       " 1,\n",
       " 1,\n",
       " 1,\n",
       " 1,\n",
       " 1,\n",
       " 1,\n",
       " 1,\n",
       " 1,\n",
       " 1,\n",
       " 2,\n",
       " 2,\n",
       " 2,\n",
       " 2,\n",
       " 2,\n",
       " 2,\n",
       " 2,\n",
       " 2,\n",
       " 2,\n",
       " 2,\n",
       " 2,\n",
       " 2,\n",
       " 2,\n",
       " 2,\n",
       " 2,\n",
       " 3,\n",
       " 2,\n",
       " 2,\n",
       " 2,\n",
       " 2,\n",
       " 2,\n",
       " 2,\n",
       " 2,\n",
       " 1,\n",
       " 3,\n",
       " 2,\n",
       " 2,\n",
       " 2,\n",
       " 2,\n",
       " 1,\n",
       " 2,\n",
       " 2,\n",
       " 2,\n",
       " 2,\n",
       " 2,\n",
       " 2,\n",
       " 2,\n",
       " 2,\n",
       " 2,\n",
       " 2,\n",
       " 2,\n",
       " 2,\n",
       " 2,\n",
       " 2,\n",
       " 2,\n",
       " 2,\n",
       " 2,\n",
       " 2,\n",
       " 2,\n",
       " 2,\n",
       " 2,\n",
       " 2,\n",
       " 2,\n",
       " 2,\n",
       " 2,\n",
       " 2,\n",
       " 2,\n",
       " 2,\n",
       " 2,\n",
       " 2,\n",
       " 2,\n",
       " 2,\n",
       " 2,\n",
       " 2,\n",
       " 2,\n",
       " 2,\n",
       " 2,\n",
       " 2,\n",
       " 2,\n",
       " 1,\n",
       " 2,\n",
       " 2,\n",
       " 2,\n",
       " 2,\n",
       " 2,\n",
       " 2,\n",
       " 2,\n",
       " 2,\n",
       " 2,\n",
       " 3,\n",
       " 2,\n",
       " 2,\n",
       " 2,\n",
       " 2,\n",
       " 2,\n",
       " 2,\n",
       " 2,\n",
       " 2,\n",
       " 2,\n",
       " 1,\n",
       " 2,\n",
       " 2,\n",
       " 1,\n",
       " 2,\n",
       " 2,\n",
       " 2,\n",
       " 2,\n",
       " 1,\n",
       " 1,\n",
       " 2,\n",
       " 2,\n",
       " 2,\n",
       " 2,\n",
       " 2,\n",
       " 2,\n",
       " 3,\n",
       " 3,\n",
       " 3,\n",
       " 3,\n",
       " 3,\n",
       " 2,\n",
       " 3,\n",
       " 3,\n",
       " 3,\n",
       " 3,\n",
       " 3,\n",
       " 3,\n",
       " 3,\n",
       " 3,\n",
       " 3,\n",
       " 3,\n",
       " 3,\n",
       " 1,\n",
       " 3,\n",
       " 3,\n",
       " 3,\n",
       " 3,\n",
       " 1,\n",
       " 1,\n",
       " 1,\n",
       " 2,\n",
       " 2,\n",
       " 2,\n",
       " 3,\n",
       " 3,\n",
       " 3,\n",
       " 3,\n",
       " 3,\n",
       " 3,\n",
       " 2,\n",
       " 2,\n",
       " 2,\n",
       " 3,\n",
       " 3,\n",
       " 3,\n",
       " 1,\n",
       " 1,\n",
       " 3,\n",
       " 3,\n",
       " 3,\n",
       " 3,\n",
       " 3,\n",
       " 3,\n",
       " 1,\n",
       " 3,\n",
       " 1,\n",
       " 3,\n",
       " 3,\n",
       " 3,\n",
       " 3,\n",
       " 3,\n",
       " 3,\n",
       " 3,\n",
       " 3,\n",
       " 3,\n",
       " 3,\n",
       " 1,\n",
       " 1,\n",
       " 3,\n",
       " 3,\n",
       " 3,\n",
       " 3,\n",
       " 3,\n",
       " 3,\n",
       " 3,\n",
       " 3,\n",
       " 3,\n",
       " 3,\n",
       " 3]"
      ]
     },
     "execution_count": 47,
     "metadata": {},
     "output_type": "execute_result"
    }
   ],
   "source": [
    "''' checing shape of test_images '''\n",
    "print(test_images.shape)\n",
    "\n",
    "''' predicion on test_images '''\n",
    "preds2 = model.predict(test_images)\n",
    "\n",
    "''' checking shape of predicted value'''\n",
    "print(preds2.shape)\n",
    "\n",
    "prediction = []\n",
    "for p in preds2:\n",
    "    ''' retreiving max val'''\n",
    "    val2 = np.argmax(p)      \n",
    "    prediction += [val2]\n",
    "prediction"
   ]
  },
  {
   "cell_type": "code",
   "execution_count": 49,
   "id": "42a406c2",
   "metadata": {
    "papermill": {
     "duration": 1.029952,
     "end_time": "2021-04-24T14:53:55.025774",
     "exception": false,
     "start_time": "2021-04-24T14:53:53.995822",
     "status": "completed"
    },
    "tags": []
   },
   "outputs": [
    {
     "data": {
      "text/plain": [
       "array([[1., 0., 0., 0.],\n",
       "       [1., 0., 0., 0.],\n",
       "       [1., 0., 0., 0.],\n",
       "       ...,\n",
       "       [0., 0., 0., 1.],\n",
       "       [0., 0., 0., 1.],\n",
       "       [0., 0., 0., 1.]])"
      ]
     },
     "execution_count": 49,
     "metadata": {},
     "output_type": "execute_result"
    }
   ],
   "source": [
    "actual2 = test_labels\n",
    "actual2 "
   ]
  },
  {
   "cell_type": "code",
   "execution_count": 46,
   "id": "2fd68f97",
   "metadata": {
    "papermill": {
     "duration": 0.787072,
     "end_time": "2021-04-24T14:53:56.646923",
     "exception": false,
     "start_time": "2021-04-24T14:53:55.859851",
     "status": "completed"
    },
    "tags": []
   },
   "outputs": [
    {
     "ename": "ValueError",
     "evalue": "Classification metrics can't handle a mix of multilabel-indicator and multiclass targets",
     "output_type": "error",
     "traceback": [
      "\u001b[1;31m---------------------------------------------------------------------------\u001b[0m",
      "\u001b[1;31mValueError\u001b[0m                                Traceback (most recent call last)",
      "Cell \u001b[1;32mIn[46], line 2\u001b[0m\n\u001b[0;32m      1\u001b[0m \u001b[38;5;124;03m''' checking accuracy score'''\u001b[39;00m\n\u001b[1;32m----> 2\u001b[0m accuracy \u001b[38;5;241m=\u001b[39m \u001b[43maccuracy_score\u001b[49m\u001b[43m(\u001b[49m\u001b[43mactual2\u001b[49m\u001b[43m,\u001b[49m\u001b[43m \u001b[49m\u001b[43mprediction\u001b[49m\u001b[43m)\u001b[49m\n\u001b[0;32m      3\u001b[0m \u001b[38;5;28mprint\u001b[39m(accuracy)\n",
      "File \u001b[1;32m~\\AppData\\Local\\Programs\\Python\\Python312\\Lib\\site-packages\\sklearn\\utils\\_param_validation.py:214\u001b[0m, in \u001b[0;36mvalidate_params.<locals>.decorator.<locals>.wrapper\u001b[1;34m(*args, **kwargs)\u001b[0m\n\u001b[0;32m    208\u001b[0m \u001b[38;5;28;01mtry\u001b[39;00m:\n\u001b[0;32m    209\u001b[0m     \u001b[38;5;28;01mwith\u001b[39;00m config_context(\n\u001b[0;32m    210\u001b[0m         skip_parameter_validation\u001b[38;5;241m=\u001b[39m(\n\u001b[0;32m    211\u001b[0m             prefer_skip_nested_validation \u001b[38;5;129;01mor\u001b[39;00m global_skip_validation\n\u001b[0;32m    212\u001b[0m         )\n\u001b[0;32m    213\u001b[0m     ):\n\u001b[1;32m--> 214\u001b[0m         \u001b[38;5;28;01mreturn\u001b[39;00m \u001b[43mfunc\u001b[49m\u001b[43m(\u001b[49m\u001b[38;5;241;43m*\u001b[39;49m\u001b[43margs\u001b[49m\u001b[43m,\u001b[49m\u001b[43m \u001b[49m\u001b[38;5;241;43m*\u001b[39;49m\u001b[38;5;241;43m*\u001b[39;49m\u001b[43mkwargs\u001b[49m\u001b[43m)\u001b[49m\n\u001b[0;32m    215\u001b[0m \u001b[38;5;28;01mexcept\u001b[39;00m InvalidParameterError \u001b[38;5;28;01mas\u001b[39;00m e:\n\u001b[0;32m    216\u001b[0m     \u001b[38;5;66;03m# When the function is just a wrapper around an estimator, we allow\u001b[39;00m\n\u001b[0;32m    217\u001b[0m     \u001b[38;5;66;03m# the function to delegate validation to the estimator, but we replace\u001b[39;00m\n\u001b[0;32m    218\u001b[0m     \u001b[38;5;66;03m# the name of the estimator by the name of the function in the error\u001b[39;00m\n\u001b[0;32m    219\u001b[0m     \u001b[38;5;66;03m# message to avoid confusion.\u001b[39;00m\n\u001b[0;32m    220\u001b[0m     msg \u001b[38;5;241m=\u001b[39m re\u001b[38;5;241m.\u001b[39msub(\n\u001b[0;32m    221\u001b[0m         \u001b[38;5;124mr\u001b[39m\u001b[38;5;124m\"\u001b[39m\u001b[38;5;124mparameter of \u001b[39m\u001b[38;5;124m\\\u001b[39m\u001b[38;5;124mw+ must be\u001b[39m\u001b[38;5;124m\"\u001b[39m,\n\u001b[0;32m    222\u001b[0m         \u001b[38;5;124mf\u001b[39m\u001b[38;5;124m\"\u001b[39m\u001b[38;5;124mparameter of \u001b[39m\u001b[38;5;132;01m{\u001b[39;00mfunc\u001b[38;5;241m.\u001b[39m\u001b[38;5;18m__qualname__\u001b[39m\u001b[38;5;132;01m}\u001b[39;00m\u001b[38;5;124m must be\u001b[39m\u001b[38;5;124m\"\u001b[39m,\n\u001b[0;32m    223\u001b[0m         \u001b[38;5;28mstr\u001b[39m(e),\n\u001b[0;32m    224\u001b[0m     )\n",
      "File \u001b[1;32m~\\AppData\\Local\\Programs\\Python\\Python312\\Lib\\site-packages\\sklearn\\metrics\\_classification.py:220\u001b[0m, in \u001b[0;36maccuracy_score\u001b[1;34m(y_true, y_pred, normalize, sample_weight)\u001b[0m\n\u001b[0;32m    154\u001b[0m \u001b[38;5;250m\u001b[39m\u001b[38;5;124;03m\"\"\"Accuracy classification score.\u001b[39;00m\n\u001b[0;32m    155\u001b[0m \n\u001b[0;32m    156\u001b[0m \u001b[38;5;124;03mIn multilabel classification, this function computes subset accuracy:\u001b[39;00m\n\u001b[1;32m   (...)\u001b[0m\n\u001b[0;32m    216\u001b[0m \u001b[38;5;124;03m0.5\u001b[39;00m\n\u001b[0;32m    217\u001b[0m \u001b[38;5;124;03m\"\"\"\u001b[39;00m\n\u001b[0;32m    219\u001b[0m \u001b[38;5;66;03m# Compute accuracy for each possible representation\u001b[39;00m\n\u001b[1;32m--> 220\u001b[0m y_type, y_true, y_pred \u001b[38;5;241m=\u001b[39m \u001b[43m_check_targets\u001b[49m\u001b[43m(\u001b[49m\u001b[43my_true\u001b[49m\u001b[43m,\u001b[49m\u001b[43m \u001b[49m\u001b[43my_pred\u001b[49m\u001b[43m)\u001b[49m\n\u001b[0;32m    221\u001b[0m check_consistent_length(y_true, y_pred, sample_weight)\n\u001b[0;32m    222\u001b[0m \u001b[38;5;28;01mif\u001b[39;00m y_type\u001b[38;5;241m.\u001b[39mstartswith(\u001b[38;5;124m\"\u001b[39m\u001b[38;5;124mmultilabel\u001b[39m\u001b[38;5;124m\"\u001b[39m):\n",
      "File \u001b[1;32m~\\AppData\\Local\\Programs\\Python\\Python312\\Lib\\site-packages\\sklearn\\metrics\\_classification.py:93\u001b[0m, in \u001b[0;36m_check_targets\u001b[1;34m(y_true, y_pred)\u001b[0m\n\u001b[0;32m     90\u001b[0m     y_type \u001b[38;5;241m=\u001b[39m {\u001b[38;5;124m\"\u001b[39m\u001b[38;5;124mmulticlass\u001b[39m\u001b[38;5;124m\"\u001b[39m}\n\u001b[0;32m     92\u001b[0m \u001b[38;5;28;01mif\u001b[39;00m \u001b[38;5;28mlen\u001b[39m(y_type) \u001b[38;5;241m>\u001b[39m \u001b[38;5;241m1\u001b[39m:\n\u001b[1;32m---> 93\u001b[0m     \u001b[38;5;28;01mraise\u001b[39;00m \u001b[38;5;167;01mValueError\u001b[39;00m(\n\u001b[0;32m     94\u001b[0m         \u001b[38;5;124m\"\u001b[39m\u001b[38;5;124mClassification metrics can\u001b[39m\u001b[38;5;124m'\u001b[39m\u001b[38;5;124mt handle a mix of \u001b[39m\u001b[38;5;132;01m{0}\u001b[39;00m\u001b[38;5;124m and \u001b[39m\u001b[38;5;132;01m{1}\u001b[39;00m\u001b[38;5;124m targets\u001b[39m\u001b[38;5;124m\"\u001b[39m\u001b[38;5;241m.\u001b[39mformat(\n\u001b[0;32m     95\u001b[0m             type_true, type_pred\n\u001b[0;32m     96\u001b[0m         )\n\u001b[0;32m     97\u001b[0m     )\n\u001b[0;32m     99\u001b[0m \u001b[38;5;66;03m# We can't have more than one value on y_type => The set is no more needed\u001b[39;00m\n\u001b[0;32m    100\u001b[0m y_type \u001b[38;5;241m=\u001b[39m y_type\u001b[38;5;241m.\u001b[39mpop()\n",
      "\u001b[1;31mValueError\u001b[0m: Classification metrics can't handle a mix of multilabel-indicator and multiclass targets"
     ]
    }
   ],
   "source": [
    "''' checking accuracy score'''\n",
    "accuracy = accuracy_score(actual2, prediction)\n",
    "print(accuracy)"
   ]
  },
  {
   "cell_type": "code",
   "execution_count": null,
   "id": "730da8b0",
   "metadata": {
    "papermill": {
     "duration": 0.77548,
     "end_time": "2021-04-24T14:53:58.193160",
     "exception": false,
     "start_time": "2021-04-24T14:53:57.417680",
     "status": "completed"
    },
    "tags": []
   },
   "outputs": [],
   "source": []
  }
 ],
 "metadata": {
  "kernelspec": {
   "display_name": "Python 3 (ipykernel)",
   "language": "python",
   "name": "python3"
  },
  "language_info": {
   "codemirror_mode": {
    "name": "ipython",
    "version": 3
   },
   "file_extension": ".py",
   "mimetype": "text/x-python",
   "name": "python",
   "nbconvert_exporter": "python",
   "pygments_lexer": "ipython3",
   "version": "3.12.1"
  },
  "papermill": {
   "default_parameters": {},
   "duration": 568.214631,
   "end_time": "2021-04-24T14:54:03.271170",
   "environment_variables": {},
   "exception": null,
   "input_path": "__notebook__.ipynb",
   "output_path": "__notebook__.ipynb",
   "parameters": {},
   "start_time": "2021-04-24T14:44:35.056539",
   "version": "2.3.3"
  }
 },
 "nbformat": 4,
 "nbformat_minor": 5
}
